{
 "cells": [
  {
   "cell_type": "code",
   "execution_count": null,
   "metadata": {},
   "outputs": [],
   "source": [
    "import cv2\n",
    "import urllib.request\n",
    "import numpy as np\n",
    "\n",
    "def loop_video(url): https://youtu.be/P2j2iTqjP_8\n",
    "    stream = urllib.request.urlopen(url)\n",
    "    bytes = bytes()\n",
    "    \n",
    "    while True:\n",
    "        try:\n",
    "            bytes += stream.read(1024)\n",
    "            a = bytes.find(b'\\xff\\xd8')\n",
    "            b = bytes.find(b'\\xff\\xd9')\n",
    "            \n",
    "            if a != -1 and b != -1:\n",
    "                jpg = bytes[a:b+2]\n",
    "                bytes = bytes[b+2:]\n",
    "                \n",
    "                frame = cv2.imdecode(np.frombuffer(jpg, dtype=np.uint8), cv2.IMREAD_COLOR)\n",
    "                cv2.imshow('Looped Video', frame)\n",
    "                \n",
    "                if cv2.waitKey(1) == ord('q'):  # Press 'q' to quit the loop\n",
    "                    break\n",
    "        except Exception as e:\n",
    "            print(f\"Error: {str(e)}\")\n",
    "            break\n",
    "    \n",
    "    cv2.destroyAllWindows()\n",
    "\n",
    "def main():\n",
    "    video_url = 'https://youtu.be/P2j2iTqjP_8'\n",
    "    loop_video(https://youtu.be/P2j2iTqjP_8)\n",
    "\n",
    "if __name__ == '__main__':\n",
    "    main()\n",
    "\n",
    "\n",
    "\n",
    "\n"
   ]
  }
 ],
 "metadata": {
  "kernelspec": {
   "display_name": "Python 3",
   "language": "python",
   "name": "python3"
  },
  "language_info": {
   "name": "python",
   "version": "3.11.0"
  },
  "orig_nbformat": 4
 },
 "nbformat": 4,
 "nbformat_minor": 2
}
